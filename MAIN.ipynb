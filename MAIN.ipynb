{
 "cells": [
  {
   "cell_type": "markdown",
   "id": "correct-recycling",
   "metadata": {},
   "source": [
    "# 3D HOUSING PROJECT"
   ]
  },
  {
   "cell_type": "code",
   "execution_count": 136,
   "id": "automatic-firewall",
   "metadata": {},
   "outputs": [],
   "source": [
    "\"\"\"import the necessary MODULES & LIBRARIES\"\"\"\n",
    "import os\n",
    "import webbrowser\n",
    "import requests \n",
    "import json\n",
    "import fiona\n",
    "import numpy as np\n",
    "import pandas as pd\n",
    "import geopandas as gpd\n",
    "import rasterio as rio\n",
    "import rioxarray as rxr\n",
    "import rasterio.mask\n",
    "import matplotlib.pyplot as plt\n",
    "from shapely.geometry import Polygon\n",
    "import plotly.graph_objects as go \n",
    "%matplotlib inline"
   ]
  },
  {
   "cell_type": "code",
   "execution_count": 137,
   "id": "acute-expansion",
   "metadata": {},
   "outputs": [
    {
     "name": "stdout",
     "output_type": "stream",
     "text": [
      "Hello There!, this program is able to plot an property of Vlaanderen in 3D\n",
      "Please enter your nameAd\n",
      "Ad Would you like to see your house plotted in 3d?\n",
      "yes\n",
      "Alright!\n"
     ]
    }
   ],
   "source": [
    "#introduction:\"USERINPUT\"\n",
    "print(\"Hello There!, this program is able to plot an property of Vlaanderen in 3D\")\n",
    "name = input(\"Please enter your name\")\n",
    "question = print(f\"{name} Would you like to see your house plotted in 3d?\")\n",
    "answer = input()\n",
    "if answer == \"yes\":\n",
    "    print (\"Alright!\")\n",
    "elif answer == \"no\":\n",
    "    print (\"Please Try again\")\n"
   ]
  },
  {
   "cell_type": "code",
   "execution_count": 161,
   "id": "representative-shadow",
   "metadata": {},
   "outputs": [
    {
     "name": "stdout",
     "output_type": "stream",
     "text": [
      "Please enter the 'Streetname'Over d'Aa\n",
      "Please enter the 'Number'24\n",
      "Please enter the'Postalcode'2910\n",
      "Please enter the 'City'Essen\n",
      "Ok,the Address you enter is: Over d'Aa 24, 2910 Essen\n"
     ]
    }
   ],
   "source": [
    "#UserINPUT Address:                              example: Heuvelplein 23 2910 Essen\n",
    "street = input (\"Please enter the 'Streetname'\")\n",
    "number = int(input(\"Please enter the 'Number'\"))\n",
    "postcode =  int(input(\"Please enter the'Postalcode'\"))\n",
    "city =        input(\"Please enter the 'City'\")\n",
    "Address = street+\" \"+str(number)+\",\"+\" \"+str(postcode)+\" \"+city\n",
    "print(\"Ok,the Address you enter is:\", Address)"
   ]
  },
  {
   "cell_type": "code",
   "execution_count": 162,
   "id": "metric-puppy",
   "metadata": {},
   "outputs": [
    {
     "name": "stdout",
     "output_type": "stream",
     "text": [
      "Address Match: https://api.basisregisters.dev-vlaanderen.be/v1/gebouweenheden/19316996\n",
      "Object ID 19316996\n",
      "Building ID is 19316928\n",
      "Polygon: [[157803.2852646485, 239599.48624821752], [157804.16052864492, 239585.90205620974], [157820.46260865778, 239586.8610322103], [157820.34664066136, 239588.66826421022], [157820.5838886574, 239588.68349621072], [157819.6664486602, 239602.97776822], [157807.02004864812, 239602.1660562195], [157807.03067264706, 239601.9974162206], [157804.3332646489, 239601.825256221], [157804.4763046503, 239599.56298421696], [157803.2852646485, 239599.48624821752]]\n"
     ]
    }
   ],
   "source": [
    "\"\"\"API \"vlaanderen basis register\" for POLYGON :\n",
    "step 1: check Address match, \n",
    "step 2: id1 get to get the gebouweenheid ,\n",
    "step 3: Use id1 to get id2 specfic building, \n",
    "step 4: Use id2 to find polgen and get geometry of that building\"\"\"\n",
    "\n",
    "    \n",
    "#step 1\n",
    "r = requests.get(f\"https://api.basisregisters.dev-vlaanderen.be/v1/adresmatch?gemeentenaam={city}&straatnaam={street}&huisnummer={number}&postcode={postcode}\").json()\n",
    "details = r['adresMatches'][0]['adresseerbareObjecten'][0]['detail']\n",
    "print(\"Address Match:\", details)\n",
    "\n",
    "\n",
    "#step 2\n",
    "id1 = r[\"adresMatches\"][0][\"adresseerbareObjecten\"][0][\"objectId\"]\n",
    "print(\"Object ID\", id1)\n",
    "\n",
    "#step 3\n",
    "r2 = requests.get(f\"https://api.basisregisters.dev-vlaanderen.be/v1/gebouweenheden/{id1}\").json()\n",
    "id2 = r2[\"gebouw\"][\"objectId\"]\n",
    "print(\"Building ID is\", id2)\n",
    "    \n",
    "#step 4\n",
    "r3 = requests.get(f\"https://api.basisregisters.dev-vlaanderen.be/v1/gebouwen/{id2}\").json()\n",
    "POLYGON = r3[\"geometriePolygoon\"][\"polygon\"][\"coordinates\"][0]\n",
    "print(\"Polygon:\", POLYGON)\n",
    "\n",
    "\n",
    "    \n",
    "    \n",
    "    \n",
    "    \n",
    "    \n",
    "    \n",
    "    \n",
    "   "
   ]
  },
  {
   "cell_type": "code",
   "execution_count": 163,
   "id": "breeding-detection",
   "metadata": {},
   "outputs": [
    {
     "data": {
      "image/svg+xml": [
       "<svg xmlns=\"http://www.w3.org/2000/svg\" xmlns:xlink=\"http://www.w3.org/1999/xlink\" width=\"100.0\" height=\"100.0\" viewBox=\"157802.59331968814 239585.21011124938 18.68251392961247 18.4596019309829\" preserveAspectRatio=\"xMinYMin meet\"><g transform=\"matrix(1,0,0,-1,0,479188.87982442975)\"><path fill-rule=\"evenodd\" fill=\"#66cc99\" stroke=\"#555555\" stroke-width=\"0.37365027859224936\" opacity=\"0.6\" d=\"M 157803.2852646485,239599.48624821752 L 157804.16052864492,239585.90205620974 L 157820.46260865778,239586.8610322103 L 157820.34664066136,239588.66826421022 L 157820.5838886574,239588.68349621072 L 157819.6664486602,239602.97776822 L 157807.02004864812,239602.1660562195 L 157807.03067264706,239601.9974162206 L 157804.3332646489,239601.825256221 L 157804.4763046503,239599.56298421696 L 157803.2852646485,239599.48624821752 z\" /></g></svg>"
      ],
      "text/plain": [
       "<shapely.geometry.polygon.Polygon at 0x2409fb4e610>"
      ]
     },
     "execution_count": 163,
     "metadata": {},
     "output_type": "execute_result"
    }
   ],
   "source": [
    "#SHAPE Of Chosen Address\n",
    "specificpolygon = Polygon(POLYGON)\n",
    "specificpolygon"
   ]
  },
  {
   "cell_type": "code",
   "execution_count": 164,
   "id": "hybrid-malpractice",
   "metadata": {},
   "outputs": [
    {
     "data": {
      "text/plain": [
       "{'LocationResult': [{'Municipality': 'Essen',\n",
       "   'Zipcode': '2910',\n",
       "   'Thoroughfarename': \"Over d'Aa\",\n",
       "   'Housenumber': '24',\n",
       "   'ID': 1901271,\n",
       "   'FormattedAddress': \"Over d'Aa 24, 2910 Essen\",\n",
       "   'Location': {'Lat_WGS84': 51.46591139928656,\n",
       "    'Lon_WGS84': 4.481167680558428,\n",
       "    'X_Lambert72': 157812.01,\n",
       "    'Y_Lambert72': 239594.35},\n",
       "   'LocationType': 'crab_huisnummer_afgeleidVanGebouw',\n",
       "   'BoundingBox': {'LowerLeft': {'Lat_WGS84': 51.46591139928656,\n",
       "     'Lon_WGS84': 4.481167680558428,\n",
       "     'X_Lambert72': 157812.01,\n",
       "     'Y_Lambert72': 239594.35},\n",
       "    'UpperRight': {'Lat_WGS84': 51.46591139928656,\n",
       "     'Lon_WGS84': 4.481167680558428,\n",
       "     'X_Lambert72': 157812.01,\n",
       "     'Y_Lambert72': 239594.35}}}]}"
      ]
     },
     "execution_count": 164,
     "metadata": {},
     "output_type": "execute_result"
    }
   ],
   "source": [
    "#API Selected Address Information(coordinations) X,Y, LON LAT & Boundingbox\n",
    "arequest = requests.get(f\"https://loc.geopunt.be/v4/Location?q={Address}\").json()\n",
    "arequest\n"
   ]
  },
  {
   "cell_type": "code",
   "execution_count": 165,
   "id": "surprised-insert",
   "metadata": {},
   "outputs": [],
   "source": [
    "addressinfo = {'address' : Address, \n",
    "                'x_value' : arequest['LocationResult'][0]['Location']['X_Lambert72'],\n",
    "                'y_value' : arequest['LocationResult'][0]['Location']['Y_Lambert72'],\n",
    "                'latitude' : arequest['LocationResult'][0]['Location']['Lat_WGS84'], \n",
    "                'longitude' : arequest['LocationResult'][0]['Location']['Lon_WGS84'],\n",
    "                'street' : arequest['LocationResult'][0]['Thoroughfarename'],\n",
    "                'house_number' : arequest['LocationResult'][0]['Housenumber'], \n",
    "                'postcode': arequest['LocationResult'][0]['Zipcode'], \n",
    "                'municipality' : arequest['LocationResult'][0]['Municipality'],\n",
    "                'bbox' : arequest['LocationResult'][0]['BoundingBox']}"
   ]
  },
  {
   "cell_type": "code",
   "execution_count": 166,
   "id": "enabling-elephant",
   "metadata": {},
   "outputs": [
    {
     "data": {
      "text/plain": [
       "{'address': \"Over d'Aa 24, 2910 Essen\",\n",
       " 'x_value': 157812.01,\n",
       " 'y_value': 239594.35,\n",
       " 'latitude': 51.46591139928656,\n",
       " 'longitude': 4.481167680558428,\n",
       " 'street': \"Over d'Aa\",\n",
       " 'house_number': '24',\n",
       " 'postcode': '2910',\n",
       " 'municipality': 'Essen',\n",
       " 'bbox': {'LowerLeft': {'Lat_WGS84': 51.46591139928656,\n",
       "   'Lon_WGS84': 4.481167680558428,\n",
       "   'X_Lambert72': 157812.01,\n",
       "   'Y_Lambert72': 239594.35},\n",
       "  'UpperRight': {'Lat_WGS84': 51.46591139928656,\n",
       "   'Lon_WGS84': 4.481167680558428,\n",
       "   'X_Lambert72': 157812.01,\n",
       "   'Y_Lambert72': 239594.35}}}"
      ]
     },
     "execution_count": 166,
     "metadata": {},
     "output_type": "execute_result"
    }
   ],
   "source": [
    "addressinfo"
   ]
  },
  {
   "cell_type": "code",
   "execution_count": 168,
   "id": "designing-canadian",
   "metadata": {},
   "outputs": [
    {
     "name": "stdout",
     "output_type": "stream",
     "text": [
      "51.46591139928656\n",
      "4.481167680558428\n"
     ]
    }
   ],
   "source": [
    "#For later use: to view actual property on Google Maps\n",
    "lat = (addressinfo[\"latitude\"])\n",
    "lon = (addressinfo[\"longitude\"])\n",
    "print(lat)\n",
    "print(lon)"
   ]
  },
  {
   "cell_type": "markdown",
   "id": "sublime-judgment",
   "metadata": {},
   "source": [
    "#Please Download the Neccessaires\n",
    "[DSM](http://www.geopunt.be/download?container=dhm-vlaanderen-ii-dsm-raster-1m&title=Digitaal%20Hoogtemodel%20Vlaanderen%20II,%20DSM,%20raster,%201m)\n",
    "[DTM](http://www.geopunt.be/download?container=dhm-vlaanderen-ii-dtm-raster-1m&title=Digitaal%20Hoogtemodel%20Vlaanderen%20II,%20DTM,%20raster,%201m)\n",
    "![MAP](files/DHM_DATA.jpeg)\n",
    "\n",
    "\n",
    "\n",
    "    "
   ]
  },
  {
   "cell_type": "code",
   "execution_count": 148,
   "id": "committed-motion",
   "metadata": {},
   "outputs": [
    {
     "data": {
      "text/plain": [
       "\" WORK IN PROGRESS...\\nCOORSPONDING DSM's & DTM's\\n#search the right* tif files in ()\\ndef search_tif():\\n    tif_files=[]\\n    \\n    files = glob(path)\\n    \\n    for file in files:\\n        tif_files.append(file)\\n        return tif_files\\n        #specify path\\nsearch_DSM = search_tif('.\\\\DSM\\\\**\\\\*.tif')\\nsearch_DTM = search_tif('.\\\\DTM\\\\**\\\\*.tif')\""
      ]
     },
     "execution_count": 148,
     "metadata": {},
     "output_type": "execute_result"
    }
   ],
   "source": [
    "\"\"\" WORK IN PROGRESS...\n",
    "COORSPONDING DSM's & DTM's\n",
    "#search the right* tif files in ()\n",
    "def search_tif():\n",
    "    tif_files=[]\n",
    "    \n",
    "    files = glob(path)\n",
    "    \n",
    "    for file in files:\n",
    "        tif_files.append(file)\n",
    "        return tif_files\n",
    "        #specify path\n",
    "search_DSM = search_tif('.\\\\DSM\\\\**\\\\*.tif')\n",
    "search_DTM = search_tif('.\\\\DTM\\\\**\\\\*.tif')\"\"\""
   ]
  },
  {
   "cell_type": "code",
   "execution_count": 169,
   "id": "starting-dealing",
   "metadata": {},
   "outputs": [],
   "source": [
    "polygone = r3[\"geometriePolygoon\"][\"polygon\"][\"coordinates\"]\n"
   ]
  },
  {
   "cell_type": "code",
   "execution_count": 170,
   "id": "removable-hobby",
   "metadata": {},
   "outputs": [],
   "source": [
    "# polygon geomertry of SPecfic property\n",
    "clip_boundaries = [ {'type': 'Polygon',\n",
    "                'coordinates': polygone}]"
   ]
  },
  {
   "cell_type": "code",
   "execution_count": 171,
   "id": "waiting-giving",
   "metadata": {},
   "outputs": [],
   "source": [
    "# CLIPPING OF DSM\n",
    "DSM = rxr.open_rasterio('DATA\\DSM_01.tif',masked=True)\n",
    "\n"
   ]
  },
  {
   "cell_type": "code",
   "execution_count": 172,
   "id": "alert-employer",
   "metadata": {},
   "outputs": [],
   "source": [
    "clipped_DSM = DSM.rio.clip(clip_boundaries)"
   ]
  },
  {
   "cell_type": "code",
   "execution_count": 173,
   "id": "going-electric",
   "metadata": {},
   "outputs": [
    {
     "data": {
      "text/plain": [
       "<matplotlib.collections.QuadMesh at 0x2409fc16cd0>"
      ]
     },
     "execution_count": 173,
     "metadata": {},
     "output_type": "execute_result"
    },
    {
     "data": {
      "image/png": "[encoded data removed]",
      "text/plain": [
       "<Figure size 432x288 with 2 Axes>"
      ]
     },
     "metadata": {
      "needs_background": "light"
     },
     "output_type": "display_data"
    }
   ],
   "source": [
    "clipped_DSM.plot()"
   ]
  },
  {
   "cell_type": "code",
   "execution_count": 174,
   "id": "civil-session",
   "metadata": {},
   "outputs": [],
   "source": [
    "#CLIPPING OF DTM\n",
    "DTM = rxr.open_rasterio('DATA\\DTM_01.tif',masked=True)\n"
   ]
  },
  {
   "cell_type": "code",
   "execution_count": 175,
   "id": "another-shaft",
   "metadata": {},
   "outputs": [],
   "source": [
    "clipped_DTM = DTM.rio.clip(clip_boundaries)"
   ]
  },
  {
   "cell_type": "code",
   "execution_count": 176,
   "id": "municipal-greeting",
   "metadata": {},
   "outputs": [
    {
     "data": {
      "text/plain": [
       "<matplotlib.collections.QuadMesh at 0x2409fcf4b20>"
      ]
     },
     "execution_count": 176,
     "metadata": {},
     "output_type": "execute_result"
    },
    {
     "data": {
      "image/png": "[encoded data removed]",
      "text/plain": [
       "<Figure size 432x288 with 2 Axes>"
      ]
     },
     "metadata": {
      "needs_background": "light"
     },
     "output_type": "display_data"
    }
   ],
   "source": [
    "clipped_DTM.plot()"
   ]
  },
  {
   "cell_type": "code",
   "execution_count": 177,
   "id": "completed-moderator",
   "metadata": {},
   "outputs": [
    {
     "data": {
      "text/plain": [
       "<matplotlib.collections.QuadMesh at 0x2409fda0310>"
      ]
     },
     "execution_count": 177,
     "metadata": {},
     "output_type": "execute_result"
    },
    {
     "data": {
      "image/png": "[encoded data removed]",
      "text/plain": [
       "<Figure size 432x288 with 2 Axes>"
      ]
     },
     "metadata": {
      "needs_background": "light"
     },
     "output_type": "display_data"
    }
   ],
   "source": [
    "# CLIPPED CHM (Clipped Canopy Height Model) \n",
    "clipped_CHM = clipped_DSM - clipped_DTM \n",
    "clipped_CHM.compute()\n",
    "clipped_CHM = clipped_CHM.fillna(0)\n",
    "clipped_CHM.plot()"
   ]
  },
  {
   "cell_type": "code",
   "execution_count": 178,
   "id": "loaded-prize",
   "metadata": {},
   "outputs": [
    {
     "data": {
      "application/vnd.plotly.v1+json": {
       "config": {
        "plotlyServerURL": "https://plot.ly"
       },
       "data": [
        {
         "type": "surface",
         "z": [
          [
           0,
           0,
           0,
           0,
           0,
           0,
           0,
           0,
           0,
           0,
           0,
           0,
           0,
           0,
           0,
           0,
           0.13000011444091797,
           0
          ],
          [
           0,
           0,
           0,
           0,
           -0.01999950408935547,
           1.3400001525878906,
           0,
           0.10000038146972656,
           0,
           0.6999998092651367,
           3.4300003051757812,
           3.7400007247924805,
           3.479999542236328,
           3.3199996948242188,
           3.0400009155273438,
           2.7100000381469727,
           2.4600000381469727,
           0
          ],
          [
           0,
           0,
           0,
           0,
           1.2100000381469727,
           2.630000114440918,
           3.8699989318847656,
           4.780000686645508,
           5.659999847412109,
           5.593725204467773,
           4.7523651123046875,
           3.9515504837036133,
           3.5799999237060547,
           3.2600011825561523,
           2.9900007247924805,
           2.719999313354492,
           2.4600000381469727,
           0
          ],
          [
           0,
           0,
           0,
           0.8599996566772461,
           2.7300004959106445,
           3.020000457763672,
           3.719999313354492,
           4.739999771118164,
           5.614356994628906,
           5.661543846130371,
           4.826621055603027,
           3.970749855041504,
           3.5771665573120117,
           3.299999237060547,
           2.939999580383301,
           2.6800003051757812,
           2.419999122619629,
           0
          ],
          [
           0,
           0,
           0,
           2.2899999618530273,
           2.7799997329711914,
           3.200000762939453,
           3.690000534057617,
           4.619998931884766,
           5.544573783874512,
           5.714049339294434,
           4.89650821685791,
           4.058509826660156,
           3.590785026550293,
           3.3173179626464844,
           3.0400009155273438,
           2.6700000762939453,
           2.4200000762939453,
           0
          ],
          [
           0,
           0,
           0,
           1.3500003814697266,
           2.75,
           3.2100000381469727,
           3.6599998474121094,
           4.604579925537109,
           5.490394592285156,
           5.800750732421875,
           4.9630584716796875,
           4.114327430725098,
           3.6496543884277344,
           3.351557731628418,
           3.09783935546875,
           2.810000419616699,
           2.4499998092651367,
           0
          ],
          [
           0,
           0,
           0,
           1.8600006103515625,
           2.75,
           3.1599998474121094,
           3.613165855407715,
           4.5596418380737305,
           5.465116500854492,
           5.860993385314941,
           4.994082450866699,
           4.144808769226074,
           3.638051986694336,
           3.414118766784668,
           3.076918601989746,
           2.823941230773926,
           2.5500001907348633,
           0
          ],
          [
           0,
           0,
           0,
           2.25,
           2.690000534057617,
           3.1446361541748047,
           3.5820999145507812,
           4.497980117797852,
           5.422763824462891,
           6.040692329406738,
           5.160655975341797,
           4.383917808532715,
           3.8238039016723633,
           3.539583206176758,
           3.285633087158203,
           2.968921661376953,
           2.6885128021240234,
           0
          ],
          [
           0,
           0,
           0,
           0.010000228881835938,
           2.6422863006591797,
           3.088033676147461,
           3.594294548034668,
           4.689732551574707,
           5.516955375671387,
           6.1163530349731445,
           5.305359840393066,
           4.725405693054199,
           3.7887649536132812,
           3.510849952697754,
           3.226712226867676,
           2.9483299255371094,
           2.700375556945801,
           0
          ],
          [
           0,
           0,
           0,
           0,
           2.602280616760254,
           3.048694610595703,
           3.593449592590332,
           4.648392677307129,
           5.453737258911133,
           6.148306846618652,
           5.337943077087402,
           4.507885932922363,
           3.797919273376465,
           3.507017135620117,
           3.22830867767334,
           2.9391088485717773,
           2.6785964965820312,
           0
          ],
          [
           0,
           0,
           0,
           0.25,
           2.587397575378418,
           3.0322933197021484,
           3.579676628112793,
           4.584072113037109,
           5.437897682189941,
           6.226707458496094,
           5.3926591873168945,
           4.590980529785156,
           3.8372392654418945,
           3.537949562072754,
           3.2685108184814453,
           3.008528709411621,
           2.716524124145508,
           0
          ],
          [
           0,
           0,
           0,
           0.4099998474121094,
           2.8729209899902344,
           4.29119873046875,
           5.824767112731934,
           6.288167953491211,
           6.3892822265625,
           6.326238632202148,
           5.493170738220215,
           4.647856712341309,
           3.8651552200317383,
           3.5926313400268555,
           3.27200984954834,
           3.020930290222168,
           2.726260185241699,
           0
          ],
          [
           0,
           0,
           0,
           0.25,
           4.541928291320801,
           5.368280410766602,
           6.182574272155762,
           7.035332679748535,
           7.305736541748047,
           6.391935348510742,
           5.678112030029297,
           4.864263534545898,
           3.890382766723633,
           3.5501909255981445,
           3.2992916107177734,
           2.9830074310302734,
           2.732881546020508,
           0
          ],
          [
           0,
           0,
           0,
           0,
           4.5109405517578125,
           5.286952972412109,
           6.2429351806640625,
           7.100191116333008,
           7.364206314086914,
           6.588213920593262,
           5.7222394943237305,
           4.896305084228516,
           3.9604320526123047,
           3.5865840911865234,
           3.27457332611084,
           3.0059614181518555,
           2.7639713287353516,
           2.5109148025512695
          ],
          [
           0,
           0,
           0,
           0,
           4.429948806762695,
           5.2455596923828125,
           6.181157112121582,
           7.047616004943848,
           7.391022682189941,
           6.614431381225586,
           5.777871131896973,
           4.961360931396484,
           3.9449281692504883,
           3.5985898971557617,
           3.284099578857422,
           3.0336837768554688,
           2.7822065353393555,
           0
          ],
          [
           0,
           0,
           0,
           0.020000457763671875,
           4.417956352233887,
           5.172432899475098,
           6.057915687561035,
           7.020546913146973,
           7.441466331481934,
           6.715913772583008,
           5.83331298828125,
           4.996686935424805,
           4.080061912536621,
           3.6234378814697266,
           3.3609304428100586,
           3.0506458282470703,
           2.779294967651367,
           0
          ],
          [
           0,
           0,
           0,
           0,
           4.3350019454956055,
           5.12166690826416,
           6.007660865783691,
           6.948552131652832,
           7.454801559448242,
           6.741056442260742,
           5.90864372253418,
           0,
           0,
           0,
           0,
           0,
           0,
           0
          ]
         ]
        }
       ],
       "layout": {
        "template": {
         "data": {
          "bar": [
           {
            "error_x": {
             "color": "#2a3f5f"
            },
            "error_y": {
             "color": "#2a3f5f"
            },
            "marker": {
             "line": {
              "color": "#E5ECF6",
              "width": 0.5
             }
            },
            "type": "bar"
           }
          ],
          "barpolar": [
           {
            "marker": {
             "line": {
              "color": "#E5ECF6",
              "width": 0.5
             }
            },
            "type": "barpolar"
           }
          ],
          "carpet": [
           {
            "aaxis": {
             "endlinecolor": "#2a3f5f",
             "gridcolor": "white",
             "linecolor": "white",
             "minorgridcolor": "white",
             "startlinecolor": "#2a3f5f"
            },
            "baxis": {
             "endlinecolor": "#2a3f5f",
             "gridcolor": "white",
             "linecolor": "white",
             "minorgridcolor": "white",
             "startlinecolor": "#2a3f5f"
            },
            "type": "carpet"
           }
          ],
          "choropleth": [
           {
            "colorbar": {
             "outlinewidth": 0,
             "ticks": ""
            },
            "type": "choropleth"
           }
          ],
          "contour": [
           {
            "colorbar": {
             "outlinewidth": 0,
             "ticks": ""
            },
            "colorscale": [
             [
              0,
              "#0d0887"
             ],
             [
              0.1111111111111111,
              "#46039f"
             ],
             [
              0.2222222222222222,
              "#7201a8"
             ],
             [
              0.3333333333333333,
              "#9c179e"
             ],
             [
              0.4444444444444444,
              "#bd3786"
             ],
             [
              0.5555555555555556,
              "#d8576b"
             ],
             [
              0.6666666666666666,
              "#ed7953"
             ],
             [
              0.7777777777777778,
              "#fb9f3a"
             ],
             [
              0.8888888888888888,
              "#fdca26"
             ],
             [
              1,
              "#f0f921"
             ]
            ],
            "type": "contour"
           }
          ],
          "contourcarpet": [
           {
            "colorbar": {
             "outlinewidth": 0,
             "ticks": ""
            },
            "type": "contourcarpet"
           }
          ],
          "heatmap": [
           {
            "colorbar": {
             "outlinewidth": 0,
             "ticks": ""
            },
            "colorscale": [
             [
              0,
              "#0d0887"
             ],
             [
              0.1111111111111111,
              "#46039f"
             ],
             [
              0.2222222222222222,
              "#7201a8"
             ],
             [
              0.3333333333333333,
              "#9c179e"
             ],
             [
              0.4444444444444444,
              "#bd3786"
             ],
             [
              0.5555555555555556,
              "#d8576b"
             ],
             [
              0.6666666666666666,
              "#ed7953"
             ],
             [
              0.7777777777777778,
              "#fb9f3a"
             ],
             [
              0.8888888888888888,
              "#fdca26"
             ],
             [
              1,
              "#f0f921"
             ]
            ],
            "type": "heatmap"
           }
          ],
          "heatmapgl": [
           {
            "colorbar": {
             "outlinewidth": 0,
             "ticks": ""
            },
            "colorscale": [
             [
              0,
              "#0d0887"
             ],
             [
              0.1111111111111111,
              "#46039f"
             ],
             [
              0.2222222222222222,
              "#7201a8"
             ],
             [
              0.3333333333333333,
              "#9c179e"
             ],
             [
              0.4444444444444444,
              "#bd3786"
             ],
             [
              0.5555555555555556,
              "#d8576b"
             ],
             [
              0.6666666666666666,
              "#ed7953"
             ],
             [
              0.7777777777777778,
              "#fb9f3a"
             ],
             [
              0.8888888888888888,
              "#fdca26"
             ],
             [
              1,
              "#f0f921"
             ]
            ],
            "type": "heatmapgl"
           }
          ],
          "histogram": [
           {
            "marker": {
             "colorbar": {
              "outlinewidth": 0,
              "ticks": ""
             }
            },
            "type": "histogram"
           }
          ],
          "histogram2d": [
           {
            "colorbar": {
             "outlinewidth": 0,
             "ticks": ""
            },
            "colorscale": [
             [
              0,
              "#0d0887"
             ],
             [
              0.1111111111111111,
              "#46039f"
             ],
             [
              0.2222222222222222,
              "#7201a8"
             ],
             [
              0.3333333333333333,
              "#9c179e"
             ],
             [
              0.4444444444444444,
              "#bd3786"
             ],
             [
              0.5555555555555556,
              "#d8576b"
             ],
             [
              0.6666666666666666,
              "#ed7953"
             ],
             [
              0.7777777777777778,
              "#fb9f3a"
             ],
             [
              0.8888888888888888,
              "#fdca26"
             ],
             [
              1,
              "#f0f921"
             ]
            ],
            "type": "histogram2d"
           }
          ],
          "histogram2dcontour": [
           {
            "colorbar": {
             "outlinewidth": 0,
             "ticks": ""
            },
            "colorscale": [
             [
              0,
              "#0d0887"
             ],
             [
              0.1111111111111111,
              "#46039f"
             ],
             [
              0.2222222222222222,
              "#7201a8"
             ],
             [
              0.3333333333333333,
              "#9c179e"
             ],
             [
              0.4444444444444444,
              "#bd3786"
             ],
             [
              0.5555555555555556,
              "#d8576b"
             ],
             [
              0.6666666666666666,
              "#ed7953"
             ],
             [
              0.7777777777777778,
              "#fb9f3a"
             ],
             [
              0.8888888888888888,
              "#fdca26"
             ],
             [
              1,
              "#f0f921"
             ]
            ],
            "type": "histogram2dcontour"
           }
          ],
          "mesh3d": [
           {
            "colorbar": {
             "outlinewidth": 0,
             "ticks": ""
            },
            "type": "mesh3d"
           }
          ],
          "parcoords": [
           {
            "line": {
             "colorbar": {
              "outlinewidth": 0,
              "ticks": ""
             }
            },
            "type": "parcoords"
           }
          ],
          "pie": [
           {
            "automargin": true,
            "type": "pie"
           }
          ],
          "scatter": [
           {
            "marker": {
             "colorbar": {
              "outlinewidth": 0,
              "ticks": ""
             }
            },
            "type": "scatter"
           }
          ],
          "scatter3d": [
           {
            "line": {
             "colorbar": {
              "outlinewidth": 0,
              "ticks": ""
             }
            },
            "marker": {
             "colorbar": {
              "outlinewidth": 0,
              "ticks": ""
             }
            },
            "type": "scatter3d"
           }
          ],
          "scattercarpet": [
           {
            "marker": {
             "colorbar": {
              "outlinewidth": 0,
              "ticks": ""
             }
            },
            "type": "scattercarpet"
           }
          ],
          "scattergeo": [
           {
            "marker": {
             "colorbar": {
              "outlinewidth": 0,
              "ticks": ""
             }
            },
            "type": "scattergeo"
           }
          ],
          "scattergl": [
           {
            "marker": {
             "colorbar": {
              "outlinewidth": 0,
              "ticks": ""
             }
            },
            "type": "scattergl"
           }
          ],
          "scattermapbox": [
           {
            "marker": {
             "colorbar": {
              "outlinewidth": 0,
              "ticks": ""
             }
            },
            "type": "scattermapbox"
           }
          ],
          "scatterpolar": [
           {
            "marker": {
             "colorbar": {
              "outlinewidth": 0,
              "ticks": ""
             }
            },
            "type": "scatterpolar"
           }
          ],
          "scatterpolargl": [
           {
            "marker": {
             "colorbar": {
              "outlinewidth": 0,
              "ticks": ""
             }
            },
            "type": "scatterpolargl"
           }
          ],
          "scatterternary": [
           {
            "marker": {
             "colorbar": {
              "outlinewidth": 0,
              "ticks": ""
             }
            },
            "type": "scatterternary"
           }
          ],
          "surface": [
           {
            "colorbar": {
             "outlinewidth": 0,
             "ticks": ""
            },
            "colorscale": [
             [
              0,
              "#0d0887"
             ],
             [
              0.1111111111111111,
              "#46039f"
             ],
             [
              0.2222222222222222,
              "#7201a8"
             ],
             [
              0.3333333333333333,
              "#9c179e"
             ],
             [
              0.4444444444444444,
              "#bd3786"
             ],
             [
              0.5555555555555556,
              "#d8576b"
             ],
             [
              0.6666666666666666,
              "#ed7953"
             ],
             [
              0.7777777777777778,
              "#fb9f3a"
             ],
             [
              0.8888888888888888,
              "#fdca26"
             ],
             [
              1,
              "#f0f921"
             ]
            ],
            "type": "surface"
           }
          ],
          "table": [
           {
            "cells": {
             "fill": {
              "color": "#EBF0F8"
             },
             "line": {
              "color": "white"
             }
            },
            "header": {
             "fill": {
              "color": "#C8D4E3"
             },
             "line": {
              "color": "white"
             }
            },
            "type": "table"
           }
          ]
         },
         "layout": {
          "annotationdefaults": {
           "arrowcolor": "#2a3f5f",
           "arrowhead": 0,
           "arrowwidth": 1
          },
          "autotypenumbers": "strict",
          "coloraxis": {
           "colorbar": {
            "outlinewidth": 0,
            "ticks": ""
           }
          },
          "colorscale": {
           "diverging": [
            [
             0,
             "#8e0152"
            ],
            [
             0.1,
             "#c51b7d"
            ],
            [
             0.2,
             "#de77ae"
            ],
            [
             0.3,
             "#f1b6da"
            ],
            [
             0.4,
             "#fde0ef"
            ],
            [
             0.5,
             "#f7f7f7"
            ],
            [
             0.6,
             "#e6f5d0"
            ],
            [
             0.7,
             "#b8e186"
            ],
            [
             0.8,
             "#7fbc41"
            ],
            [
             0.9,
             "#4d9221"
            ],
            [
             1,
             "#276419"
            ]
           ],
           "sequential": [
            [
             0,
             "#0d0887"
            ],
            [
             0.1111111111111111,
             "#46039f"
            ],
            [
             0.2222222222222222,
             "#7201a8"
            ],
            [
             0.3333333333333333,
             "#9c179e"
            ],
            [
             0.4444444444444444,
             "#bd3786"
            ],
            [
             0.5555555555555556,
             "#d8576b"
            ],
            [
             0.6666666666666666,
             "#ed7953"
            ],
            [
             0.7777777777777778,
             "#fb9f3a"
            ],
            [
             0.8888888888888888,
             "#fdca26"
            ],
            [
             1,
             "#f0f921"
            ]
           ],
           "sequentialminus": [
            [
             0,
             "#0d0887"
            ],
            [
             0.1111111111111111,
             "#46039f"
            ],
            [
             0.2222222222222222,
             "#7201a8"
            ],
            [
             0.3333333333333333,
             "#9c179e"
            ],
            [
             0.4444444444444444,
             "#bd3786"
            ],
            [
             0.5555555555555556,
             "#d8576b"
            ],
            [
             0.6666666666666666,
             "#ed7953"
            ],
            [
             0.7777777777777778,
             "#fb9f3a"
            ],
            [
             0.8888888888888888,
             "#fdca26"
            ],
            [
             1,
             "#f0f921"
            ]
           ]
          },
          "colorway": [
           "#636efa",
           "#EF553B",
           "#00cc96",
           "#ab63fa",
           "#FFA15A",
           "#19d3f3",
           "#FF6692",
           "#B6E880",
           "#FF97FF",
           "#FECB52"
          ],
          "font": {
           "color": "#2a3f5f"
          },
          "geo": {
           "bgcolor": "white",
           "lakecolor": "white",
           "landcolor": "#E5ECF6",
           "showlakes": true,
           "showland": true,
           "subunitcolor": "white"
          },
          "hoverlabel": {
           "align": "left"
          },
          "hovermode": "closest",
          "mapbox": {
           "style": "light"
          },
          "paper_bgcolor": "white",
          "plot_bgcolor": "#E5ECF6",
          "polar": {
           "angularaxis": {
            "gridcolor": "white",
            "linecolor": "white",
            "ticks": ""
           },
           "bgcolor": "#E5ECF6",
           "radialaxis": {
            "gridcolor": "white",
            "linecolor": "white",
            "ticks": ""
           }
          },
          "scene": {
           "xaxis": {
            "backgroundcolor": "#E5ECF6",
            "gridcolor": "white",
            "gridwidth": 2,
            "linecolor": "white",
            "showbackground": true,
            "ticks": "",
            "zerolinecolor": "white"
           },
           "yaxis": {
            "backgroundcolor": "#E5ECF6",
            "gridcolor": "white",
            "gridwidth": 2,
            "linecolor": "white",
            "showbackground": true,
            "ticks": "",
            "zerolinecolor": "white"
           },
           "zaxis": {
            "backgroundcolor": "#E5ECF6",
            "gridcolor": "white",
            "gridwidth": 2,
            "linecolor": "white",
            "showbackground": true,
            "ticks": "",
            "zerolinecolor": "white"
           }
          },
          "shapedefaults": {
           "line": {
            "color": "#2a3f5f"
           }
          },
          "ternary": {
           "aaxis": {
            "gridcolor": "white",
            "linecolor": "white",
            "ticks": ""
           },
           "baxis": {
            "gridcolor": "white",
            "linecolor": "white",
            "ticks": ""
           },
           "bgcolor": "#E5ECF6",
           "caxis": {
            "gridcolor": "white",
            "linecolor": "white",
            "ticks": ""
           }
          },
          "title": {
           "x": 0.05
          },
          "xaxis": {
           "automargin": true,
           "gridcolor": "white",
           "linecolor": "white",
           "ticks": "",
           "title": {
            "standoff": 15
           },
           "zerolinecolor": "white",
           "zerolinewidth": 2
          },
          "yaxis": {
           "automargin": true,
           "gridcolor": "white",
           "linecolor": "white",
           "ticks": "",
           "title": {
            "standoff": 15
           },
           "zerolinecolor": "white",
           "zerolinewidth": 2
          }
         }
        },
        "title": {
         "text": "This is your 3D plot of your Property"
        }
       }
      },
      "text/html": [
       "<div>                            <div id=\"132488bd-44f5-4a95-8dfe-4937d83fd4ff\" class=\"plotly-graph-div\" style=\"height:525px; width:100%;\"></div>            <script type=\"text/javascript\">                require([\"plotly\"], function(Plotly) {                    window.PLOTLYENV=window.PLOTLYENV || {};                                    if (document.getElementById(\"132488bd-44f5-4a95-8dfe-4937d83fd4ff\")) {                    Plotly.newPlot(                        \"132488bd-44f5-4a95-8dfe-4937d83fd4ff\",                        [{\"type\": \"surface\", \"z\": [[0.0, 0.0, 0.0, 0.0, 0.0, 0.0, 0.0, 0.0, 0.0, 0.0, 0.0, 0.0, 0.0, 0.0, 0.0, 0.0, 0.13000011444091797, 0.0], [0.0, 0.0, 0.0, 0.0, -0.01999950408935547, 1.3400001525878906, 0.0, 0.10000038146972656, 0.0, 0.6999998092651367, 3.4300003051757812, 3.7400007247924805, 3.479999542236328, 3.3199996948242188, 3.0400009155273438, 2.7100000381469727, 2.4600000381469727, 0.0], [0.0, 0.0, 0.0, 0.0, 1.2100000381469727, 2.630000114440918, 3.8699989318847656, 4.780000686645508, 5.659999847412109, 5.593725204467773, 4.7523651123046875, 3.9515504837036133, 3.5799999237060547, 3.2600011825561523, 2.9900007247924805, 2.719999313354492, 2.4600000381469727, 0.0], [0.0, 0.0, 0.0, 0.8599996566772461, 2.7300004959106445, 3.020000457763672, 3.719999313354492, 4.739999771118164, 5.614356994628906, 5.661543846130371, 4.826621055603027, 3.970749855041504, 3.5771665573120117, 3.299999237060547, 2.939999580383301, 2.6800003051757812, 2.419999122619629, 0.0], [0.0, 0.0, 0.0, 2.2899999618530273, 2.7799997329711914, 3.200000762939453, 3.690000534057617, 4.619998931884766, 5.544573783874512, 5.714049339294434, 4.89650821685791, 4.058509826660156, 3.590785026550293, 3.3173179626464844, 3.0400009155273438, 2.6700000762939453, 2.4200000762939453, 0.0], [0.0, 0.0, 0.0, 1.3500003814697266, 2.75, 3.2100000381469727, 3.6599998474121094, 4.604579925537109, 5.490394592285156, 5.800750732421875, 4.9630584716796875, 4.114327430725098, 3.6496543884277344, 3.351557731628418, 3.09783935546875, 2.810000419616699, 2.4499998092651367, 0.0], [0.0, 0.0, 0.0, 1.8600006103515625, 2.75, 3.1599998474121094, 3.613165855407715, 4.5596418380737305, 5.465116500854492, 5.860993385314941, 4.994082450866699, 4.144808769226074, 3.638051986694336, 3.414118766784668, 3.076918601989746, 2.823941230773926, 2.5500001907348633, 0.0], [0.0, 0.0, 0.0, 2.25, 2.690000534057617, 3.1446361541748047, 3.5820999145507812, 4.497980117797852, 5.422763824462891, 6.040692329406738, 5.160655975341797, 4.383917808532715, 3.8238039016723633, 3.539583206176758, 3.285633087158203, 2.968921661376953, 2.6885128021240234, 0.0], [0.0, 0.0, 0.0, 0.010000228881835938, 2.6422863006591797, 3.088033676147461, 3.594294548034668, 4.689732551574707, 5.516955375671387, 6.1163530349731445, 5.305359840393066, 4.725405693054199, 3.7887649536132812, 3.510849952697754, 3.226712226867676, 2.9483299255371094, 2.700375556945801, 0.0], [0.0, 0.0, 0.0, 0.0, 2.602280616760254, 3.048694610595703, 3.593449592590332, 4.648392677307129, 5.453737258911133, 6.148306846618652, 5.337943077087402, 4.507885932922363, 3.797919273376465, 3.507017135620117, 3.22830867767334, 2.9391088485717773, 2.6785964965820312, 0.0], [0.0, 0.0, 0.0, 0.25, 2.587397575378418, 3.0322933197021484, 3.579676628112793, 4.584072113037109, 5.437897682189941, 6.226707458496094, 5.3926591873168945, 4.590980529785156, 3.8372392654418945, 3.537949562072754, 3.2685108184814453, 3.008528709411621, 2.716524124145508, 0.0], [0.0, 0.0, 0.0, 0.4099998474121094, 2.8729209899902344, 4.29119873046875, 5.824767112731934, 6.288167953491211, 6.3892822265625, 6.326238632202148, 5.493170738220215, 4.647856712341309, 3.8651552200317383, 3.5926313400268555, 3.27200984954834, 3.020930290222168, 2.726260185241699, 0.0], [0.0, 0.0, 0.0, 0.25, 4.541928291320801, 5.368280410766602, 6.182574272155762, 7.035332679748535, 7.305736541748047, 6.391935348510742, 5.678112030029297, 4.864263534545898, 3.890382766723633, 3.5501909255981445, 3.2992916107177734, 2.9830074310302734, 2.732881546020508, 0.0], [0.0, 0.0, 0.0, 0.0, 4.5109405517578125, 5.286952972412109, 6.2429351806640625, 7.100191116333008, 7.364206314086914, 6.588213920593262, 5.7222394943237305, 4.896305084228516, 3.9604320526123047, 3.5865840911865234, 3.27457332611084, 3.0059614181518555, 2.7639713287353516, 2.5109148025512695], [0.0, 0.0, 0.0, 0.0, 4.429948806762695, 5.2455596923828125, 6.181157112121582, 7.047616004943848, 7.391022682189941, 6.614431381225586, 5.777871131896973, 4.961360931396484, 3.9449281692504883, 3.5985898971557617, 3.284099578857422, 3.0336837768554688, 2.7822065353393555, 0.0], [0.0, 0.0, 0.0, 0.020000457763671875, 4.417956352233887, 5.172432899475098, 6.057915687561035, 7.020546913146973, 7.441466331481934, 6.715913772583008, 5.83331298828125, 4.996686935424805, 4.080061912536621, 3.6234378814697266, 3.3609304428100586, 3.0506458282470703, 2.779294967651367, 0.0], [0.0, 0.0, 0.0, 0.0, 4.3350019454956055, 5.12166690826416, 6.007660865783691, 6.948552131652832, 7.454801559448242, 6.741056442260742, 5.90864372253418, 0.0, 0.0, 0.0, 0.0, 0.0, 0.0, 0.0]]}],                        {\"template\": {\"data\": {\"bar\": [{\"error_x\": {\"color\": \"#2a3f5f\"}, \"error_y\": {\"color\": \"#2a3f5f\"}, \"marker\": {\"line\": {\"color\": \"#E5ECF6\", \"width\": 0.5}}, \"type\": \"bar\"}], \"barpolar\": [{\"marker\": {\"line\": {\"color\": \"#E5ECF6\", \"width\": 0.5}}, \"type\": \"barpolar\"}], \"carpet\": [{\"aaxis\": {\"endlinecolor\": \"#2a3f5f\", \"gridcolor\": \"white\", \"linecolor\": \"white\", \"minorgridcolor\": \"white\", \"startlinecolor\": \"#2a3f5f\"}, \"baxis\": {\"endlinecolor\": \"#2a3f5f\", \"gridcolor\": \"white\", \"linecolor\": \"white\", \"minorgridcolor\": \"white\", \"startlinecolor\": \"#2a3f5f\"}, \"type\": \"carpet\"}], \"choropleth\": [{\"colorbar\": {\"outlinewidth\": 0, \"ticks\": \"\"}, \"type\": \"choropleth\"}], \"contour\": [{\"colorbar\": {\"outlinewidth\": 0, \"ticks\": \"\"}, \"colorscale\": [[0.0, \"#0d0887\"], [0.1111111111111111, \"#46039f\"], [0.2222222222222222, \"#7201a8\"], [0.3333333333333333, \"#9c179e\"], [0.4444444444444444, \"#bd3786\"], [0.5555555555555556, \"#d8576b\"], [0.6666666666666666, \"#ed7953\"], [0.7777777777777778, \"#fb9f3a\"], [0.8888888888888888, \"#fdca26\"], [1.0, \"#f0f921\"]], \"type\": \"contour\"}], \"contourcarpet\": [{\"colorbar\": {\"outlinewidth\": 0, \"ticks\": \"\"}, \"type\": \"contourcarpet\"}], \"heatmap\": [{\"colorbar\": {\"outlinewidth\": 0, \"ticks\": \"\"}, \"colorscale\": [[0.0, \"#0d0887\"], [0.1111111111111111, \"#46039f\"], [0.2222222222222222, \"#7201a8\"], [0.3333333333333333, \"#9c179e\"], [0.4444444444444444, \"#bd3786\"], [0.5555555555555556, \"#d8576b\"], [0.6666666666666666, \"#ed7953\"], [0.7777777777777778, \"#fb9f3a\"], [0.8888888888888888, \"#fdca26\"], [1.0, \"#f0f921\"]], \"type\": \"heatmap\"}], \"heatmapgl\": [{\"colorbar\": {\"outlinewidth\": 0, \"ticks\": \"\"}, \"colorscale\": [[0.0, \"#0d0887\"], [0.1111111111111111, \"#46039f\"], [0.2222222222222222, \"#7201a8\"], [0.3333333333333333, \"#9c179e\"], [0.4444444444444444, \"#bd3786\"], [0.5555555555555556, \"#d8576b\"], [0.6666666666666666, \"#ed7953\"], [0.7777777777777778, \"#fb9f3a\"], [0.8888888888888888, \"#fdca26\"], [1.0, \"#f0f921\"]], \"type\": \"heatmapgl\"}], \"histogram\": [{\"marker\": {\"colorbar\": {\"outlinewidth\": 0, \"ticks\": \"\"}}, \"type\": \"histogram\"}], \"histogram2d\": [{\"colorbar\": {\"outlinewidth\": 0, \"ticks\": \"\"}, \"colorscale\": [[0.0, \"#0d0887\"], [0.1111111111111111, \"#46039f\"], [0.2222222222222222, \"#7201a8\"], [0.3333333333333333, \"#9c179e\"], [0.4444444444444444, \"#bd3786\"], [0.5555555555555556, \"#d8576b\"], [0.6666666666666666, \"#ed7953\"], [0.7777777777777778, \"#fb9f3a\"], [0.8888888888888888, \"#fdca26\"], [1.0, \"#f0f921\"]], \"type\": \"histogram2d\"}], \"histogram2dcontour\": [{\"colorbar\": {\"outlinewidth\": 0, \"ticks\": \"\"}, \"colorscale\": [[0.0, \"#0d0887\"], [0.1111111111111111, \"#46039f\"], [0.2222222222222222, \"#7201a8\"], [0.3333333333333333, \"#9c179e\"], [0.4444444444444444, \"#bd3786\"], [0.5555555555555556, \"#d8576b\"], [0.6666666666666666, \"#ed7953\"], [0.7777777777777778, \"#fb9f3a\"], [0.8888888888888888, \"#fdca26\"], [1.0, \"#f0f921\"]], \"type\": \"histogram2dcontour\"}], \"mesh3d\": [{\"colorbar\": {\"outlinewidth\": 0, \"ticks\": \"\"}, \"type\": \"mesh3d\"}], \"parcoords\": [{\"line\": {\"colorbar\": {\"outlinewidth\": 0, \"ticks\": \"\"}}, \"type\": \"parcoords\"}], \"pie\": [{\"automargin\": true, \"type\": \"pie\"}], \"scatter\": [{\"marker\": {\"colorbar\": {\"outlinewidth\": 0, \"ticks\": \"\"}}, \"type\": \"scatter\"}], \"scatter3d\": [{\"line\": {\"colorbar\": {\"outlinewidth\": 0, \"ticks\": \"\"}}, \"marker\": {\"colorbar\": {\"outlinewidth\": 0, \"ticks\": \"\"}}, \"type\": \"scatter3d\"}], \"scattercarpet\": [{\"marker\": {\"colorbar\": {\"outlinewidth\": 0, \"ticks\": \"\"}}, \"type\": \"scattercarpet\"}], \"scattergeo\": [{\"marker\": {\"colorbar\": {\"outlinewidth\": 0, \"ticks\": \"\"}}, \"type\": \"scattergeo\"}], \"scattergl\": [{\"marker\": {\"colorbar\": {\"outlinewidth\": 0, \"ticks\": \"\"}}, \"type\": \"scattergl\"}], \"scattermapbox\": [{\"marker\": {\"colorbar\": {\"outlinewidth\": 0, \"ticks\": \"\"}}, \"type\": \"scattermapbox\"}], \"scatterpolar\": [{\"marker\": {\"colorbar\": {\"outlinewidth\": 0, \"ticks\": \"\"}}, \"type\": \"scatterpolar\"}], \"scatterpolargl\": [{\"marker\": {\"colorbar\": {\"outlinewidth\": 0, \"ticks\": \"\"}}, \"type\": \"scatterpolargl\"}], \"scatterternary\": [{\"marker\": {\"colorbar\": {\"outlinewidth\": 0, \"ticks\": \"\"}}, \"type\": \"scatterternary\"}], \"surface\": [{\"colorbar\": {\"outlinewidth\": 0, \"ticks\": \"\"}, \"colorscale\": [[0.0, \"#0d0887\"], [0.1111111111111111, \"#46039f\"], [0.2222222222222222, \"#7201a8\"], [0.3333333333333333, \"#9c179e\"], [0.4444444444444444, \"#bd3786\"], [0.5555555555555556, \"#d8576b\"], [0.6666666666666666, \"#ed7953\"], [0.7777777777777778, \"#fb9f3a\"], [0.8888888888888888, \"#fdca26\"], [1.0, \"#f0f921\"]], \"type\": \"surface\"}], \"table\": [{\"cells\": {\"fill\": {\"color\": \"#EBF0F8\"}, \"line\": {\"color\": \"white\"}}, \"header\": {\"fill\": {\"color\": \"#C8D4E3\"}, \"line\": {\"color\": \"white\"}}, \"type\": \"table\"}]}, \"layout\": {\"annotationdefaults\": {\"arrowcolor\": \"#2a3f5f\", \"arrowhead\": 0, \"arrowwidth\": 1}, \"autotypenumbers\": \"strict\", \"coloraxis\": {\"colorbar\": {\"outlinewidth\": 0, \"ticks\": \"\"}}, \"colorscale\": {\"diverging\": [[0, \"#8e0152\"], [0.1, \"#c51b7d\"], [0.2, \"#de77ae\"], [0.3, \"#f1b6da\"], [0.4, \"#fde0ef\"], [0.5, \"#f7f7f7\"], [0.6, \"#e6f5d0\"], [0.7, \"#b8e186\"], [0.8, \"#7fbc41\"], [0.9, \"#4d9221\"], [1, \"#276419\"]], \"sequential\": [[0.0, \"#0d0887\"], [0.1111111111111111, \"#46039f\"], [0.2222222222222222, \"#7201a8\"], [0.3333333333333333, \"#9c179e\"], [0.4444444444444444, \"#bd3786\"], [0.5555555555555556, \"#d8576b\"], [0.6666666666666666, \"#ed7953\"], [0.7777777777777778, \"#fb9f3a\"], [0.8888888888888888, \"#fdca26\"], [1.0, \"#f0f921\"]], \"sequentialminus\": [[0.0, \"#0d0887\"], [0.1111111111111111, \"#46039f\"], [0.2222222222222222, \"#7201a8\"], [0.3333333333333333, \"#9c179e\"], [0.4444444444444444, \"#bd3786\"], [0.5555555555555556, \"#d8576b\"], [0.6666666666666666, \"#ed7953\"], [0.7777777777777778, \"#fb9f3a\"], [0.8888888888888888, \"#fdca26\"], [1.0, \"#f0f921\"]]}, \"colorway\": [\"#636efa\", \"#EF553B\", \"#00cc96\", \"#ab63fa\", \"#FFA15A\", \"#19d3f3\", \"#FF6692\", \"#B6E880\", \"#FF97FF\", \"#FECB52\"], \"font\": {\"color\": \"#2a3f5f\"}, \"geo\": {\"bgcolor\": \"white\", \"lakecolor\": \"white\", \"landcolor\": \"#E5ECF6\", \"showlakes\": true, \"showland\": true, \"subunitcolor\": \"white\"}, \"hoverlabel\": {\"align\": \"left\"}, \"hovermode\": \"closest\", \"mapbox\": {\"style\": \"light\"}, \"paper_bgcolor\": \"white\", \"plot_bgcolor\": \"#E5ECF6\", \"polar\": {\"angularaxis\": {\"gridcolor\": \"white\", \"linecolor\": \"white\", \"ticks\": \"\"}, \"bgcolor\": \"#E5ECF6\", \"radialaxis\": {\"gridcolor\": \"white\", \"linecolor\": \"white\", \"ticks\": \"\"}}, \"scene\": {\"xaxis\": {\"backgroundcolor\": \"#E5ECF6\", \"gridcolor\": \"white\", \"gridwidth\": 2, \"linecolor\": \"white\", \"showbackground\": true, \"ticks\": \"\", \"zerolinecolor\": \"white\"}, \"yaxis\": {\"backgroundcolor\": \"#E5ECF6\", \"gridcolor\": \"white\", \"gridwidth\": 2, \"linecolor\": \"white\", \"showbackground\": true, \"ticks\": \"\", \"zerolinecolor\": \"white\"}, \"zaxis\": {\"backgroundcolor\": \"#E5ECF6\", \"gridcolor\": \"white\", \"gridwidth\": 2, \"linecolor\": \"white\", \"showbackground\": true, \"ticks\": \"\", \"zerolinecolor\": \"white\"}}, \"shapedefaults\": {\"line\": {\"color\": \"#2a3f5f\"}}, \"ternary\": {\"aaxis\": {\"gridcolor\": \"white\", \"linecolor\": \"white\", \"ticks\": \"\"}, \"baxis\": {\"gridcolor\": \"white\", \"linecolor\": \"white\", \"ticks\": \"\"}, \"bgcolor\": \"#E5ECF6\", \"caxis\": {\"gridcolor\": \"white\", \"linecolor\": \"white\", \"ticks\": \"\"}}, \"title\": {\"x\": 0.05}, \"xaxis\": {\"automargin\": true, \"gridcolor\": \"white\", \"linecolor\": \"white\", \"ticks\": \"\", \"title\": {\"standoff\": 15}, \"zerolinecolor\": \"white\", \"zerolinewidth\": 2}, \"yaxis\": {\"automargin\": true, \"gridcolor\": \"white\", \"linecolor\": \"white\", \"ticks\": \"\", \"title\": {\"standoff\": 15}, \"zerolinecolor\": \"white\", \"zerolinewidth\": 2}}}, \"title\": {\"text\": \"This is your 3D plot of your Property\"}},                        {\"responsive\": true}                    ).then(function(){\n",
       "                            \n",
       "var gd = document.getElementById('132488bd-44f5-4a95-8dfe-4937d83fd4ff');\n",
       "var x = new MutationObserver(function (mutations, observer) {{\n",
       "        var display = window.getComputedStyle(gd).display;\n",
       "        if (!display || display === 'none') {{\n",
       "            console.log([gd, 'removed!']);\n",
       "            Plotly.purge(gd);\n",
       "            observer.disconnect();\n",
       "        }}\n",
       "}});\n",
       "\n",
       "// Listen for the removal of the full notebook cells\n",
       "var notebookContainer = gd.closest('#notebook-container');\n",
       "if (notebookContainer) {{\n",
       "    x.observe(notebookContainer, {childList: true});\n",
       "}}\n",
       "\n",
       "// Listen for the clearing of the current output cell\n",
       "var outputEl = gd.closest('.output');\n",
       "if (outputEl) {{\n",
       "    x.observe(outputEl, {childList: true});\n",
       "}}\n",
       "\n",
       "                        })                };                });            </script>        </div>"
      ]
     },
     "metadata": {},
     "output_type": "display_data"
    }
   ],
   "source": [
    "\"\"\"VISUALIZING THE PLOT\"\"\"\n",
    "#3D plotting with ploty \n",
    "\n",
    "\n",
    "figure = go.Figure(data=[go.Surface(z = clipped_CHM[0])])\n",
    "\n",
    "figure.update_layout(title='This is your 3D plot of your Property')\n",
    "\n",
    "figure.show()"
   ]
  },
  {
   "cell_type": "code",
   "execution_count": 179,
   "id": "latter-poster",
   "metadata": {},
   "outputs": [
    {
     "name": "stdout",
     "output_type": "stream",
     "text": [
      "Thank You for Viewing!\n"
     ]
    }
   ],
   "source": [
    "\"\"\"See the ACTUAL property on Google Maps! streetview\"\"\"\n",
    "actual = 'https://www.google.com.my/maps/place/'+str(lat)+','+str(lon)\n",
    "webbrowser.open(actual)\n",
    "print('Thank You for Viewing!')"
   ]
  },
  {
   "cell_type": "code",
   "execution_count": null,
   "id": "discrete-antique",
   "metadata": {},
   "outputs": [],
   "source": []
  }
 ],
 "metadata": {
  "kernelspec": {
   "display_name": "Python 3",
   "language": "python",
   "name": "python3"
  },
  "language_info": {
   "codemirror_mode": {
    "name": "ipython",
    "version": 3
   },
   "file_extension": ".py",
   "mimetype": "text/x-python",
   "name": "python",
   "nbconvert_exporter": "python",
   "pygments_lexer": "ipython3",
   "version": "3.8.6"
  }
 },
 "nbformat": 4,
 "nbformat_minor": 5
}
