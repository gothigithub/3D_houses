{
 "cells": [
  {
   "cell_type": "code",
   "execution_count": null,
   "id": "smoking-coral",
   "metadata": {},
   "outputs": [],
   "source": [
    "STRUCTURED version\n",
    "- Your code use functions and it's documented with comments and doc-strings\n",
    "- Connect and retrieve information from an API\n",
    "- The program generates a CHM (Canopy height model) for any given address within a region.\n",
    "- The 3D building is represented on an interactive plot\n",
    "- You are able to explain the explored data and results.\n",
    "- You are able to explain the libraries you used and justify the reasons to use them."
   ]
  },
  {
   "cell_type": "code",
   "execution_count": null,
   "id": "virtual-biotechnology",
   "metadata": {},
   "outputs": [],
   "source": [
    "#internal \n",
    "import os\n",
    "import requests #\n",
    "              #\n",
    "plotly.graph_objects as go # visualization \n"
   ]
  },
  {
   "cell_type": "code",
   "execution_count": null,
   "id": "aggressive-relations",
   "metadata": {},
   "outputs": [],
   "source": [
    "\"\"\"LIBRARIES\"\"\"\n",
    "import numpy as np\n",
    "import pandas as pd\n",
    "import rasterio as rio\n",
    "import matplotlib.pyplot as plt\n"
   ]
  },
  {
   "cell_type": "code",
   "execution_count": null,
   "id": "matched-coordinator",
   "metadata": {},
   "outputs": [],
   "source": [
    "#introduction program\n",
    "\"the purpose of this program is to plot an property in 3D\"\n",
    "\"WELCOME\"\n",
    "\"Please enter your name\"\n",
    "return name\n",
    "questionprint(\"Would you like to see your house plotted in 3d?\") \n",
    "if questionretyped till yes\n",
    "yes"
   ]
  },
  {
   "cell_type": "code",
   "execution_count": null,
   "id": "immune-departure",
   "metadata": {},
   "outputs": [],
   "source": [
    "#\n",
    "example koningstraat 1 1000 brussels\n",
    "street = input (streetname)\n",
    "housenumber = input number\n",
    "postalcode =  input postalcode\n",
    "city = input city\n"
   ]
  },
  {
   "cell_type": "code",
   "execution_count": null,
   "id": "undefined-taste",
   "metadata": {},
   "outputs": [],
   "source": [
    "def address():\n"
   ]
  },
  {
   "cell_type": "code",
   "execution_count": null,
   "id": "disabled-bryan",
   "metadata": {},
   "outputs": [],
   "source": [
    "change address to geocoordinates"
   ]
  },
  {
   "cell_type": "code",
   "execution_count": null,
   "id": "statistical-newport",
   "metadata": {},
   "outputs": [],
   "source": [
    "TIF FILES GEO SEARCH COORSPONDING COORDINATIONS IN TIF FILE"
   ]
  },
  {
   "cell_type": "code",
   "execution_count": null,
   "id": "broken-official",
   "metadata": {},
   "outputs": [],
   "source": [
    "API (get polygon)\n",
    "get "
   ]
  },
  {
   "cell_type": "code",
   "execution_count": null,
   "id": "committed-harvest",
   "metadata": {},
   "outputs": [],
   "source": [
    "API"
   ]
  },
  {
   "cell_type": "code",
   "execution_count": null,
   "id": "thousand-interaction",
   "metadata": {},
   "outputs": [],
   "source": []
  }
 ],
 "metadata": {
  "kernelspec": {
   "display_name": "Python 3",
   "language": "python",
   "name": "python3"
  },
  "language_info": {
   "codemirror_mode": {
    "name": "ipython",
    "version": 3
   },
   "file_extension": ".py",
   "mimetype": "text/x-python",
   "name": "python",
   "nbconvert_exporter": "python",
   "pygments_lexer": "ipython3",
   "version": "3.8.6"
  }
 },
 "nbformat": 4,
 "nbformat_minor": 5
}
