{
 "cells": [
  {
   "cell_type": "markdown",
   "id": "single-oliver",
   "metadata": {},
   "source": [
    "# 3D HOUSING PROJECT"
   ]
  },
  {
   "cell_type": "code",
   "execution_count": 96,
   "id": "civic-longitude",
   "metadata": {},
   "outputs": [],
   "source": [
    "\"\"\"import the necessary MODULES & LIBRARIES\"\"\"\n",
    "import os\n",
    "import webbrowser\n",
    "import requests \n",
    "import json\n",
    "import fiona\n",
    "import numpy as np\n",
    "import pandas as pd\n",
    "import geopandas as gpd\n",
    "import rasterio as rio\n",
    "import rioxarray as rxr\n",
    "import rasterio.mask\n",
    "import matplotlib.pyplot as plt\n",
    "from shapely.geometry import Polygon\n",
    "import plotly.graph_objects as go \n",
    "%matplotlib inline"
   ]
  },
  {
   "cell_type": "code",
   "execution_count": 13,
   "id": "creative-defeat",
   "metadata": {},
   "outputs": [
    {
     "name": "stdout",
     "output_type": "stream",
     "text": [
      "Hello There this program is to plot an property of Vlaanderen in 3D\n",
      "Please enter your nameAd\n",
      "Ad Would you like to see your house plotted in 3d?\n",
      "yes\n",
      "Alright!\n"
     ]
    }
   ],
   "source": [
    "#introduction:\"USERINPUT\"\n",
    "print(\"Hello There!, this program is able to plot an property of Vlaanderen in 3D\")\n",
    "name = input(\"Please enter your name\")\n",
    "question = print(f\"{name} Would you like to see your house plotted in 3d?\")\n",
    "answer = input()\n",
    "if answer == \"yes\":\n",
    "    print (\"Alright!\")\n",
    "elif answer == \"no\":\n",
    "    print (\"Please Try again\")\n"
   ]
  },
  {
   "cell_type": "code",
   "execution_count": 25,
   "id": "olympic-application",
   "metadata": {},
   "outputs": [
    {
     "name": "stdout",
     "output_type": "stream",
     "text": [
      "Please enter the 'Streetname'Bolivarplaats\n",
      "Please enter the 'Number'20\n",
      "Please enter the'Postalcode'2000\n",
      "Please enter the 'City'Antwerpen\n",
      "['Bolivarplaats', 10, 2000, 'Antwerpen']\n"
     ]
    }
   ],
   "source": [
    "#UserINPUT Address:                              example: Meir 1 2000 Antwerpen\n",
    "street = input (\"Please enter the 'Streetname'\")\n",
    "number = int(input(\"Please enter the 'Number'\"))\n",
    "postcode =  int(input(\"Please enter the'Postalcode'\"))\n",
    "city =        input(\"Please enter the 'City'\")\n",
    "address = [street,housenumber,postalcode,city]\n",
    "print(\"Ok,the Address you enter is:\"address)"
   ]
  },
  {
   "cell_type": "code",
   "execution_count": 73,
   "id": "victorian-rehabilitation",
   "metadata": {},
   "outputs": [
    {
     "name": "stdout",
     "output_type": "stream",
     "text": [
      "Bolivarplaats 20, 2000 Antwerpen\n"
     ]
    }
   ],
   "source": [
    "Address = street+\" \"+str(number)+\",\"+\" \"+str(postcode)+\" \"+city\n",
    "print(Address)\n"
   ]
  },
  {
   "cell_type": "code",
   "execution_count": 87,
   "id": "outside-jesus",
   "metadata": {},
   "outputs": [
    {
     "name": "stdout",
     "output_type": "stream",
     "text": [
      "Address Match: https://api.basisregisters.dev-vlaanderen.be/v1/gebouweenheden/16640496\n",
      "Object ID 16640496\n",
      "Building ID is 16639665\n",
      "Polygon: [[151290.9148921445, 210548.07995613664], [151286.9813241437, 210555.69122014195], [151275.0793081373, 210549.45320414007], [151296.962188147, 210506.94818010926], [151294.24314814806, 210505.55118810758], [151292.06017214805, 210509.80219611153], [151289.05921214074, 210508.2212041095], [151292.0021881461, 210502.4901961051], [151291.83918014914, 210502.39816410467], [151293.72417214513, 210498.72418010235], [151297.5501561463, 210500.6871881038], [151296.65518014878, 210502.43118810654], [151298.74618814886, 210503.5042121075], [151303.9821561575, 210493.3402440995], [151298.93262015283, 210490.58216409758], [151293.97774014622, 210487.65742809698], [151289.1231481433, 210484.5691720955], [151254.37127611786, 210537.43016412854], [151243.07924411446, 210530.0021321252], [151269.3831161335, 210490.0061000958], [151266.79514812678, 210488.29915609583], [151264.21914812922, 210492.3021641001], [151261.36417212337, 210490.46408409625], [151264.92014012486, 210485.05314009264], [151264.75316412747, 210484.94312409312], [151267.0621561259, 210481.43310809135], [151270.65415613353, 210483.7961160913], [151269.57716412842, 210485.43413209543], [151271.54017212987, 210486.72514009476], [151277.8101241365, 210477.19112408906], [151273.0727161318, 210473.91714008525], [151268.44244413078, 210470.49333208427], [151263.92410812527, 210466.92309208214], [151223.83924409747, 210515.8420681171], [151213.48321209103, 210507.22203610837], [151243.76807611436, 210470.18907608464], [151241.3801081106, 210468.33006808162], [151238.3401081115, 210471.9850440845], [151235.75713210553, 210469.83701208234], [151239.82106810808, 210464.85307608172], [151239.66708411276, 210464.72603607923], [151242.3061241135, 210461.51202007756], [151245.6181241125, 210464.21902807802], [151244.35207611322, 210465.76808407903], [151246.16007611156, 210467.2820680812], [151256.93006011844, 210454.15310807154], [151257.48705212027, 210454.61006807163], [151264.83002812415, 210445.67406806722], [151263.7130361274, 210445.10210006684], [151264.40404412895, 210443.75810006633], [151266.02241212875, 210440.6116040647], [151276.0019961372, 210421.2087240517], [151278.55495613813, 210416.24514004588], [151279.2459641397, 210414.90210004523], [151280.44500413537, 210415.51912404597], [151283.32692413777, 210404.86510803923], [151282.87297213823, 210404.73608404025], [151283.02798014134, 210404.1891400367], [151282.7869561389, 210404.1230920367], [151286.4499321431, 210390.75810002908], [151283.50190013647, 210389.95010002702], [151282.3199481368, 210394.45307603106], [151279.06990014017, 210393.59912402928], [151280.68692413718, 210387.44507602602], [151280.49793213606, 210387.39406802505], [151281.6019321382, 210383.32206802443], [151285.72890814394, 210384.48110802472], [151285.2268921435, 210386.31611602753], [151287.54593214393, 210386.95112402737], [151299.76980414987, 210342.15009999648], [151296.8338041529, 210341.3561159931], [151295.5958521515, 210345.93307599798], [151292.31380414963, 210345.0450759977], [151293.99681214988, 210338.8251079917], [151293.8048121482, 210338.77013199404], [151294.4028281495, 210336.67707599327], [151301.04378814995, 210338.4691399932], [151301.8988281563, 210335.65409998968], [151301.65780415386, 210335.58811599016], [151312.07169216126, 210297.40315596387], [151325.0377081707, 210300.9661639668], [151297.2429561466, 210402.44213203713], [151301.39943615347, 210403.6236360371], [151305.52129215747, 210404.92098003998], [151309.6051961556, 210406.33320403844], [151313.64794816077, 210407.8592200391], [151316.70094016194, 210400.04718803614], [151313.86894015968, 210398.9412040338], [151312.137932159, 210403.37518803775], [151308.95194815844, 210402.1311560385], [151311.29991615564, 210396.11918803304], [151311.11393216252, 210396.0452040322], [151312.64794816077, 210392.15918802842], [151316.6339321658, 210393.70018003136], [151315.91194815934, 210395.56520403177], [151318.1019641608, 210396.41518803313], [151335.02983617783, 210353.0652360022], [151332.20583617687, 210351.96520400047], [151330.47182017565, 210356.4201800041], [151327.3028601706, 210355.1861960031], [151329.63982017338, 210349.18721999973], [151329.45281217247, 210349.1152199991], [151330.24679617584, 210347.0491719991], [151336.46081217378, 210349.4192200005], [151354.9937401861, 210302.05121996626], [151367.5647481978, 210306.93326796964], [151326.24295616895, 210412.7832520455], [151330.25614017248, 210414.40021204576], [151334.22074817866, 210416.13288404793], [151338.13345217705, 210417.97973204777], [151341.99098818004, 210419.93928404897], [151345.89895617962, 210412.37026004493], [151343.19495618343, 210410.95925204456], [151340.93594817817, 210415.2882760465], [151337.90394818038, 210413.70523604378], [151340.8849401772, 210407.99323604256], [151340.70695617795, 210407.90222804248], [151342.62894017994, 210404.15624403954], [151346.44398018718, 210406.12827603891], [151345.53895618021, 210407.87829203904], [151347.91297218204, 210409.07726804167], [151368.97185219824, 210367.6743240133], [151366.24583619833, 210366.2613320127], [151364.04583619535, 210370.50427601486], [151361.02689219266, 210368.9382600151], [151363.99284419417, 210363.22030800954], [151363.81588419527, 210363.12731600925], [151365.86484419554, 210359.21026000753], [151369.65985219926, 210361.2043080069], [151368.63687619567, 210363.15131600946], [151370.9808761999, 210364.29429201037], [151373.0418682024, 210360.29429200664], [151372.81985220313, 210360.17928400636], [151401.86874822527, 210304.0583239682], [151413.84570822865, 210310.21237197146], [151379.79322820902, 210376.10286802053], [151374.33082820475, 210386.67240402475], [151374.21626820415, 210386.8941000253], [151342.13505218178, 210448.97026006877], [151338.96750018, 210455.09986007214], [151338.3703161776, 210456.2554440759], [151331.59278017282, 210469.37077208236], [151328.89582017064, 210474.58965208754], [151327.88212417066, 210476.55125208944], [151295.96775615215, 210538.30312412977], [151290.9148921445, 210548.07995613664]]\n"
     ]
    }
   ],
   "source": [
    "\"\"\"API \"vlaanderen basis register\" for POLYGON :\n",
    "step 1 check Address match , \n",
    "step 2 id1 get to get the gebouweenheid ,\n",
    "step 3 Use id1 to get id2 specfic building, \n",
    "step 4 Use id2 to find polgen and get geometry of that building\"\"\"\n",
    "\n",
    "    \n",
    "#step 1\n",
    "r = requests.get(f\"https://api.basisregisters.dev-vlaanderen.be/v1/adresmatch?gemeentenaam={city}&straatnaam={street}&huisnummer={number}&postcode={postcode}\").json()\n",
    "details = r['adresMatches'][0]['adresseerbareObjecten'][0]['detail']\n",
    "print(\"Address Match:\", details)\n",
    "\n",
    "\n",
    "#step 2\n",
    "id1 = r[\"adresMatches\"][0][\"adresseerbareObjecten\"][0][\"objectId\"]\n",
    "print(\"Object ID\", id1)\n",
    "\n",
    "#step 3\n",
    "r2 = requests.get(f\"https://api.basisregisters.dev-vlaanderen.be/v1/gebouweenheden/{id1}\").json()\n",
    "id2 = r2[\"gebouw\"][\"objectId\"]\n",
    "print(\"Building ID is\", id2)\n",
    "    \n",
    "#step 4\n",
    "r3 = requests.get(f\"https://api.basisregisters.dev-vlaanderen.be/v1/gebouwen/{id2}\").json()\n",
    "POLYGON = r3[\"geometriePolygoon\"][\"polygon\"][\"coordinates\"][0]\n",
    "print(\"Polygon:\", POLYGON)\n",
    "\n",
    "\n",
    "    \n",
    "    \n",
    "    \n",
    "    \n",
    "    \n",
    "    \n",
    "    \n",
    "   "
   ]
  },
  {
   "cell_type": "code",
   "execution_count": 89,
   "id": "limited-teens",
   "metadata": {},
   "outputs": [
    {
     "data": {
      "image/svg+xml": [
       "<svg xmlns=\"http://www.w3.org/2000/svg\" xmlns:xlink=\"http://www.w3.org/1999/xlink\" width=\"221.02554127183976\" height=\"278.9511093123001\" viewBox=\"151203.15168952392 210287.07163339676 221.02554127183976 278.9511093123001\" preserveAspectRatio=\"xMinYMin meet\"><g transform=\"matrix(1,0,0,-1,0,420853.0943761058)\"><path fill-rule=\"evenodd\" fill=\"#66cc99\" stroke=\"#555555\" stroke-width=\"2.0\" opacity=\"0.6\" d=\"M 151290.9148921445,210548.07995613664 L 151286.9813241437,210555.69122014195 L 151275.0793081373,210549.45320414007 L 151296.962188147,210506.94818010926 L 151294.24314814806,210505.55118810758 L 151292.06017214805,210509.80219611153 L 151289.05921214074,210508.2212041095 L 151292.0021881461,210502.4901961051 L 151291.83918014914,210502.39816410467 L 151293.72417214513,210498.72418010235 L 151297.5501561463,210500.6871881038 L 151296.65518014878,210502.43118810654 L 151298.74618814886,210503.5042121075 L 151303.9821561575,210493.3402440995 L 151298.93262015283,210490.58216409758 L 151293.97774014622,210487.65742809698 L 151289.1231481433,210484.5691720955 L 151254.37127611786,210537.43016412854 L 151243.07924411446,210530.0021321252 L 151269.3831161335,210490.0061000958 L 151266.79514812678,210488.29915609583 L 151264.21914812922,210492.3021641001 L 151261.36417212337,210490.46408409625 L 151264.92014012486,210485.05314009264 L 151264.75316412747,210484.94312409312 L 151267.0621561259,210481.43310809135 L 151270.65415613353,210483.7961160913 L 151269.57716412842,210485.43413209543 L 151271.54017212987,210486.72514009476 L 151277.8101241365,210477.19112408906 L 151273.0727161318,210473.91714008525 L 151268.44244413078,210470.49333208427 L 151263.92410812527,210466.92309208214 L 151223.83924409747,210515.8420681171 L 151213.48321209103,210507.22203610837 L 151243.76807611436,210470.18907608464 L 151241.3801081106,210468.33006808162 L 151238.3401081115,210471.9850440845 L 151235.75713210553,210469.83701208234 L 151239.82106810808,210464.85307608172 L 151239.66708411276,210464.72603607923 L 151242.3061241135,210461.51202007756 L 151245.6181241125,210464.21902807802 L 151244.35207611322,210465.76808407903 L 151246.16007611156,210467.2820680812 L 151256.93006011844,210454.15310807154 L 151257.48705212027,210454.61006807163 L 151264.83002812415,210445.67406806722 L 151263.7130361274,210445.10210006684 L 151264.40404412895,210443.75810006633 L 151266.02241212875,210440.6116040647 L 151276.0019961372,210421.2087240517 L 151278.55495613813,210416.24514004588 L 151279.2459641397,210414.90210004523 L 151280.44500413537,210415.51912404597 L 151283.32692413777,210404.86510803923 L 151282.87297213823,210404.73608404025 L 151283.02798014134,210404.1891400367 L 151282.7869561389,210404.1230920367 L 151286.4499321431,210390.75810002908 L 151283.50190013647,210389.95010002702 L 151282.3199481368,210394.45307603106 L 151279.06990014017,210393.59912402928 L 151280.68692413718,210387.44507602602 L 151280.49793213606,210387.39406802505 L 151281.6019321382,210383.32206802443 L 151285.72890814394,210384.48110802472 L 151285.2268921435,210386.31611602753 L 151287.54593214393,210386.95112402737 L 151299.76980414987,210342.15009999648 L 151296.8338041529,210341.3561159931 L 151295.5958521515,210345.93307599798 L 151292.31380414963,210345.0450759977 L 151293.99681214988,210338.8251079917 L 151293.8048121482,210338.77013199404 L 151294.4028281495,210336.67707599327 L 151301.04378814995,210338.4691399932 L 151301.8988281563,210335.65409998968 L 151301.65780415386,210335.58811599016 L 151312.07169216126,210297.40315596387 L 151325.0377081707,210300.9661639668 L 151297.2429561466,210402.44213203713 L 151301.39943615347,210403.6236360371 L 151305.52129215747,210404.92098003998 L 151309.6051961556,210406.33320403844 L 151313.64794816077,210407.8592200391 L 151316.70094016194,210400.04718803614 L 151313.86894015968,210398.9412040338 L 151312.137932159,210403.37518803775 L 151308.95194815844,210402.1311560385 L 151311.29991615564,210396.11918803304 L 151311.11393216252,210396.0452040322 L 151312.64794816077,210392.15918802842 L 151316.6339321658,210393.70018003136 L 151315.91194815934,210395.56520403177 L 151318.1019641608,210396.41518803313 L 151335.02983617783,210353.0652360022 L 151332.20583617687,210351.96520400047 L 151330.47182017565,210356.4201800041 L 151327.3028601706,210355.1861960031 L 151329.63982017338,210349.18721999973 L 151329.45281217247,210349.1152199991 L 151330.24679617584,210347.0491719991 L 151336.46081217378,210349.4192200005 L 151354.9937401861,210302.05121996626 L 151367.5647481978,210306.93326796964 L 151326.24295616895,210412.7832520455 L 151330.25614017248,210414.40021204576 L 151334.22074817866,210416.13288404793 L 151338.13345217705,210417.97973204777 L 151341.99098818004,210419.93928404897 L 151345.89895617962,210412.37026004493 L 151343.19495618343,210410.95925204456 L 151340.93594817817,210415.2882760465 L 151337.90394818038,210413.70523604378 L 151340.8849401772,210407.99323604256 L 151340.70695617795,210407.90222804248 L 151342.62894017994,210404.15624403954 L 151346.44398018718,210406.12827603891 L 151345.53895618021,210407.87829203904 L 151347.91297218204,210409.07726804167 L 151368.97185219824,210367.6743240133 L 151366.24583619833,210366.2613320127 L 151364.04583619535,210370.50427601486 L 151361.02689219266,210368.9382600151 L 151363.99284419417,210363.22030800954 L 151363.81588419527,210363.12731600925 L 151365.86484419554,210359.21026000753 L 151369.65985219926,210361.2043080069 L 151368.63687619567,210363.15131600946 L 151370.9808761999,210364.29429201037 L 151373.0418682024,210360.29429200664 L 151372.81985220313,210360.17928400636 L 151401.86874822527,210304.0583239682 L 151413.84570822865,210310.21237197146 L 151379.79322820902,210376.10286802053 L 151374.33082820475,210386.67240402475 L 151374.21626820415,210386.8941000253 L 151342.13505218178,210448.97026006877 L 151338.96750018,210455.09986007214 L 151338.3703161776,210456.2554440759 L 151331.59278017282,210469.37077208236 L 151328.89582017064,210474.58965208754 L 151327.88212417066,210476.55125208944 L 151295.96775615215,210538.30312412977 L 151290.9148921445,210548.07995613664 z\" /></g></svg>"
      ],
      "text/plain": [
       "<shapely.geometry.polygon.Polygon at 0x24094fae9d0>"
      ]
     },
     "execution_count": 89,
     "metadata": {},
     "output_type": "execute_result"
    }
   ],
   "source": [
    "specificpolygon = Polygon(POLYGON)\n",
    "specificpolygon"
   ]
  },
  {
   "cell_type": "code",
   "execution_count": 76,
   "id": "prime-expert",
   "metadata": {},
   "outputs": [
    {
     "name": "stdout",
     "output_type": "stream",
     "text": [
      "{'LocationResult': [{'Municipality': 'Antwerpen', 'Zipcode': '2000', 'Thoroughfarename': 'Bolivarplaats', 'Housenumber': '20', 'ID': 2693437, 'FormattedAddress': 'Bolivarplaats 20, 2000 Antwerpen', 'Location': {'Lat_WGS84': 51.20379833880362, 'Lon_WGS84': 4.387513343655195, 'X_Lambert72': 151310.86, 'Y_Lambert72': 210425.85}, 'LocationType': 'crab_huisnummer_afgeleidVanGebouw', 'BoundingBox': {'LowerLeft': {'Lat_WGS84': 51.20379833880362, 'Lon_WGS84': 4.387513343655195, 'X_Lambert72': 151310.86, 'Y_Lambert72': 210425.85}, 'UpperRight': {'Lat_WGS84': 51.20379833880362, 'Lon_WGS84': 4.387513343655195, 'X_Lambert72': 151310.86, 'Y_Lambert72': 210425.85}}}]}\n"
     ]
    }
   ],
   "source": [
    "#API to get boundingbox\n",
    "BBrequest = requests.get(f\"https://loc.geopunt.be/geolocation/location?q={Address}\").json()\n",
    "print(BBrequest)"
   ]
  },
  {
   "cell_type": "code",
   "execution_count": 78,
   "id": "closed-council",
   "metadata": {},
   "outputs": [],
   "source": [
    "boundingbox =(BBrequest['LocationResult'][0]['BoundingBox']['LowerLeft']['X_Lambert72'],['LowerLeft'],\n",
    "                   BBrequest['LocationResult'][0]['BoundingBox']['LowerLeft']['Y_Lambert72'],['UpperLeft'],\n",
    "                   BBrequest['LocationResult'][0]['BoundingBox']['UpperRight']['X_Lambert72'],['LowerRight'],\n",
    "                   BBrequest['LocationResult'][0]['BoundingBox']['UpperRight']['Y_Lambert72'],['UpperRight'])"
   ]
  },
  {
   "cell_type": "code",
   "execution_count": 79,
   "id": "equivalent-harrison",
   "metadata": {},
   "outputs": [
    {
     "data": {
      "text/plain": [
       "(151310.86,\n",
       " ['LowerLeft'],\n",
       " 210425.85,\n",
       " ['UpperLeft'],\n",
       " 151310.86,\n",
       " ['LowerRight'],\n",
       " 210425.85,\n",
       " ['UpperRight'])"
      ]
     },
     "execution_count": 79,
     "metadata": {},
     "output_type": "execute_result"
    }
   ],
   "source": [
    "# find boundingbox in tifs "
   ]
  },
  {
   "cell_type": "code",
   "execution_count": 80,
   "id": "suitable-indie",
   "metadata": {},
   "outputs": [
    {
     "data": {
      "text/plain": [
       "{'LocationResult': [{'Municipality': 'Antwerpen',\n",
       "   'Zipcode': '2000',\n",
       "   'Thoroughfarename': 'Bolivarplaats',\n",
       "   'Housenumber': '20',\n",
       "   'ID': 2693437,\n",
       "   'FormattedAddress': 'Bolivarplaats 20, 2000 Antwerpen',\n",
       "   'Location': {'Lat_WGS84': 51.20379833880362,\n",
       "    'Lon_WGS84': 4.387513343655195,\n",
       "    'X_Lambert72': 151310.86,\n",
       "    'Y_Lambert72': 210425.85},\n",
       "   'LocationType': 'crab_huisnummer_afgeleidVanGebouw',\n",
       "   'BoundingBox': {'LowerLeft': {'Lat_WGS84': 51.20379833880362,\n",
       "     'Lon_WGS84': 4.387513343655195,\n",
       "     'X_Lambert72': 151310.86,\n",
       "     'Y_Lambert72': 210425.85},\n",
       "    'UpperRight': {'Lat_WGS84': 51.20379833880362,\n",
       "     'Lon_WGS84': 4.387513343655195,\n",
       "     'X_Lambert72': 151310.86,\n",
       "     'Y_Lambert72': 210425.85}}}]}"
      ]
     },
     "execution_count": 80,
     "metadata": {},
     "output_type": "execute_result"
    }
   ],
   "source": [
    "#NEWER API  tryout coordinations \n",
    "arequest = requests.get(f\"https://loc.geopunt.be/v4/Location?q={Address}\").json()\n",
    "arequest\n"
   ]
  },
  {
   "cell_type": "code",
   "execution_count": 81,
   "id": "inclusive-bracket",
   "metadata": {},
   "outputs": [],
   "source": [
    "addressinfo = {'address' : address, \n",
    "                'x_value' : arequest['LocationResult'][0]['Location']['X_Lambert72'],\n",
    "                'y_value' : arequest['LocationResult'][0]['Location']['Y_Lambert72'],\n",
    "                'latitude' : arequest['LocationResult'][0]['Location']['Lat_WGS84'], \n",
    "                'longitude' : arequest['LocationResult'][0]['Location']['Lon_WGS84'],\n",
    "                'street' : arequest['LocationResult'][0]['Thoroughfarename'],\n",
    "                'house_number' : arequest['LocationResult'][0]['Housenumber'], \n",
    "                'postcode': arequest['LocationResult'][0]['Zipcode'], \n",
    "                'municipality' : arequest['LocationResult'][0]['Municipality'],\n",
    "                'bbox' : arequest['LocationResult'][0]['BoundingBox']}"
   ]
  },
  {
   "cell_type": "code",
   "execution_count": 82,
   "id": "thorough-brooks",
   "metadata": {},
   "outputs": [
    {
     "data": {
      "text/plain": [
       "{'address': ['Bolivarplaats', 10, 2000, 'Antwerpen'],\n",
       " 'x_value': 151310.86,\n",
       " 'y_value': 210425.85,\n",
       " 'latitude': 51.20379833880362,\n",
       " 'longitude': 4.387513343655195,\n",
       " 'street': 'Bolivarplaats',\n",
       " 'house_number': '20',\n",
       " 'postcode': '2000',\n",
       " 'municipality': 'Antwerpen',\n",
       " 'bbox': {'LowerLeft': {'Lat_WGS84': 51.20379833880362,\n",
       "   'Lon_WGS84': 4.387513343655195,\n",
       "   'X_Lambert72': 151310.86,\n",
       "   'Y_Lambert72': 210425.85},\n",
       "  'UpperRight': {'Lat_WGS84': 51.20379833880362,\n",
       "   'Lon_WGS84': 4.387513343655195,\n",
       "   'X_Lambert72': 151310.86,\n",
       "   'Y_Lambert72': 210425.85}}}"
      ]
     },
     "execution_count": 82,
     "metadata": {},
     "output_type": "execute_result"
    }
   ],
   "source": [
    "addressinfo"
   ]
  },
  {
   "cell_type": "code",
   "execution_count": 94,
   "id": "worse-insulation",
   "metadata": {},
   "outputs": [
    {
     "name": "stdout",
     "output_type": "stream",
     "text": [
      "51.20379833880362\n",
      "4.387513343655195\n"
     ]
    }
   ],
   "source": [
    "#For later use: to actual property on Google Maps\n",
    "lat = (addressinfo[\"latitude\"])\n",
    "lon =(addressinfo[\"longitude\"])\n",
    "print(lat)\n",
    "print(lon)"
   ]
  },
  {
   "cell_type": "code",
   "execution_count": null,
   "id": "transsexual-specific",
   "metadata": {},
   "outputs": [],
   "source": [
    "# polygon geomertry of SP. property\n",
    "clip_boundaries = [ {'type': 'Polygon',\n",
    "                'coordinates': POLYGON}]"
   ]
  },
  {
   "cell_type": "code",
   "execution_count": null,
   "id": "recent-spiritual",
   "metadata": {},
   "outputs": [],
   "source": [
    "\"TIF FILES GEO SEARCH COORSPONDING COORDINATIONS IN TIF FILE"
   ]
  },
  {
   "cell_type": "code",
   "execution_count": null,
   "id": "precious-level",
   "metadata": {},
   "outputs": [],
   "source": [
    "#please download the neccessaires"
   ]
  },
  {
   "cell_type": "code",
   "execution_count": null,
   "id": "announced-adaptation",
   "metadata": {},
   "outputs": [],
   "source": [
    "change address to geocoordinates"
   ]
  },
  {
   "cell_type": "code",
   "execution_count": null,
   "id": "engaged-hours",
   "metadata": {},
   "outputs": [],
   "source": [
    "#search tif files in \n",
    "def search_tif():\n",
    "    tif_files=[]\n",
    "    \n",
    "    files = glob(path)\n",
    "    \n",
    "    for file in files:\n",
    "        tif_files.append(file)\n",
    "        return tif_files\n",
    "search_DSM = search_tif('.\\\\DSM\\\\**\\\\*.tif')\n",
    "search_DTM = search_tif('.\\\\DTM\\\\**\\\\*.tif')"
   ]
  },
  {
   "cell_type": "code",
   "execution_count": null,
   "id": "endless-database",
   "metadata": {},
   "outputs": [],
   "source": [
    "POLYGON = requestgebouw[\"geometriePolygoon\"][\"polygon\"][\"coordinates\"]"
   ]
  },
  {
   "cell_type": "code",
   "execution_count": null,
   "id": "regulated-vehicle",
   "metadata": {},
   "outputs": [],
   "source": [
    "#CLIPPING OF DSM\n",
    "DSM = rioxarray.open_rasterio('DATA\\DSM_01.tif',masked=True)\n",
    "clipped_DSM = DSM.rio.clip(clip_boundaries)\n"
   ]
  },
  {
   "cell_type": "code",
   "execution_count": null,
   "id": "lovely-promise",
   "metadata": {},
   "outputs": [],
   "source": [
    "#CLIPPING OF DTM\n",
    "DTM = rioxarray.open_rasterio('DATA\\DTM_01.tif',masked=True)\n",
    "clipped_DTM = DTM.rio.clip(clip_boundaries)"
   ]
  },
  {
   "cell_type": "code",
   "execution_count": null,
   "id": "rough-development",
   "metadata": {},
   "outputs": [],
   "source": [
    "# CLIPPED CHM (Canopy Height Model) \n",
    "clipped_CHM = clipped_DSM - clipped_DTM \n",
    "clipped_CHM.compute()\n",
    "clipped_CHM = clipped_CHM.fillna(0)\n",
    "clipped_CHM.plot()"
   ]
  },
  {
   "cell_type": "code",
   "execution_count": null,
   "id": "loose-prague",
   "metadata": {},
   "outputs": [],
   "source": [
    "\"\"\"VISUALIZING THE PLOT\"\"\"\n",
    "#3D plotting with ploty \n",
    "\n",
    "\n",
    "figure = go.Figure(data=[go.Surface(z = clipped_CHM[0])])\n",
    "\n",
    "figure.update_layout(title='This is your 3D plot of your Property')\n",
    "\n",
    "figure.show()"
   ]
  },
  {
   "cell_type": "code",
   "execution_count": 97,
   "id": "revolutionary-storm",
   "metadata": {},
   "outputs": [
    {
     "data": {
      "text/plain": [
       "True"
      ]
     },
     "execution_count": 97,
     "metadata": {},
     "output_type": "execute_result"
    }
   ],
   "source": [
    "\"\"\"See the ACTUAL property on Google Maps! streetview\"\"\"\n",
    "actual = 'https://www.google.com.my/maps/place/'+str(lat)+','+str(lon)\n",
    "webbrowser.open(actual)"
   ]
  },
  {
   "cell_type": "code",
   "execution_count": null,
   "id": "decimal-label",
   "metadata": {},
   "outputs": [],
   "source": [
    "return('Thank You')"
   ]
  }
 ],
 "metadata": {
  "kernelspec": {
   "display_name": "Python 3",
   "language": "python",
   "name": "python3"
  },
  "language_info": {
   "codemirror_mode": {
    "name": "ipython",
    "version": 3
   },
   "file_extension": ".py",
   "mimetype": "text/x-python",
   "name": "python",
   "nbconvert_exporter": "python",
   "pygments_lexer": "ipython3",
   "version": "3.8.6"
  }
 },
 "nbformat": 4,
 "nbformat_minor": 5
}
